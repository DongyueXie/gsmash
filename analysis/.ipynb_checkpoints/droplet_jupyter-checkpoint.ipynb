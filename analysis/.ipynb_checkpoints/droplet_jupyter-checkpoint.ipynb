{
 "cells": [
  {
   "cell_type": "code",
   "execution_count": 1,
   "id": "d24089f9",
   "metadata": {},
   "outputs": [
    {
     "data": {
      "text/plain": [
       "               _                           \n",
       "platform       x86_64-pc-linux-gnu         \n",
       "arch           x86_64                      \n",
       "os             linux-gnu                   \n",
       "system         x86_64, linux-gnu           \n",
       "status                                     \n",
       "major          3                           \n",
       "minor          6.1                         \n",
       "year           2019                        \n",
       "month          07                          \n",
       "day            05                          \n",
       "svn rev        76782                       \n",
       "language       R                           \n",
       "version.string R version 3.6.1 (2019-07-05)\n",
       "nickname       Action of the Toes          "
      ]
     },
     "metadata": {},
     "output_type": "display_data"
    }
   ],
   "source": [
    "init_tol=0.01\n",
    "res = readRDS(file=paste('/project2/mstephens/dongyue/poisson_mf/droplet_66k/iteration_results/ebpmf_pulse_seq_5kgene_nonnegLF_inittol',init_tol,'_iter50.rds',sep=''))"
   ]
  },
  {
   "cell_type": "code",
   "execution_count": null,
   "id": "6cb32d7b",
   "metadata": {},
   "outputs": [],
   "source": []
  }
 ],
 "metadata": {
  "kernelspec": {
   "display_name": "R",
   "language": "R",
   "name": "ir"
  },
  "language_info": {
   "codemirror_mode": "r",
   "file_extension": ".r",
   "mimetype": "text/x-r-source",
   "name": "R",
   "pygments_lexer": "r",
   "version": "3.6.1"
  }
 },
 "nbformat": 4,
 "nbformat_minor": 5
}

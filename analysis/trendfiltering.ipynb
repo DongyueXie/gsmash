{
 "cells": [
  {
   "cell_type": "code",
   "execution_count": 1,
   "metadata": {},
   "outputs": [],
   "source": [
    "import numpy as np\n",
    "import collections"
   ]
  },
  {
   "cell_type": "markdown",
   "metadata": {},
   "source": [
    "from https://github.com/stephenslab/gradvi/blob/main/src/gradvi/models/basis_matrix/bm_trendfiltering.py"
   ]
  },
  {
   "cell_type": "code",
   "execution_count": 2,
   "metadata": {},
   "outputs": [],
   "source": [
    "def discrete_difference_operator_check(n, k):\n",
    "    '''\n",
    "    Returns discrete difference operator D(k)\n",
    "    This is the exact definition used in [Tibshirani, 2014]\n",
    "    and should only be used for checking the faster implementation below.\n",
    "    '''\n",
    "    if k == 0:\n",
    "        D = np.eye(n)\n",
    "    else:\n",
    "        # define D(1)\n",
    "        D = np.zeros((n-1, n))\n",
    "        for i in range(n-1):\n",
    "            D[i, i] = -1\n",
    "            D[i, i+1] = 1\n",
    "        D1 = D.copy()\n",
    "        for j in range(1, k):\n",
    "            Dj = D.copy()\n",
    "            D = np.dot(D1[:n-j-1, :n-j], Dj)\n",
    "    return D\n",
    "\n",
    "\n",
    "def discrete_difference_operator(n, k, return_row = False):\n",
    "    '''\n",
    "    Returns discrete difference operator D(k)\n",
    "    This is a fast implementation without any dot product.\n",
    "    \n",
    "    Parameters\n",
    "    ----------\n",
    "    n : int\n",
    "        The number of observations\n",
    "    k : int\n",
    "        Order of the trendfiltering\n",
    "    return_row : bool, optional \n",
    "        Whether to return only the non-zero values of first row \n",
    "        D[0, :k+2]. (The first row is required for calculating \n",
    "        the inverse trendfiltering basis matrix). Default is False.\n",
    "    Returns\n",
    "    -------\n",
    "    D : array of shape (n - k, n)\n",
    "        The discrete difference operator\n",
    "    '''\n",
    "    Drow = np.zeros((2, k + 2))\n",
    "    for i in range(2):\n",
    "        Drow[i, i] = 1\n",
    "    for j in range(k):\n",
    "        Drow[0, :]     = Drow[1,:] - Drow[0, :]\n",
    "        Drow[1, 1:j+3] = Drow[0, :j+2]\n",
    "    if not return_row:\n",
    "        D = np.zeros((n - k, n))\n",
    "        for irow in np.arange(n - k):\n",
    "            D[irow, irow:irow + k + 1] = Drow[0, :k+1]\n",
    "    else:\n",
    "        D = np.zeros(n)\n",
    "        D[:k+2] = Drow[0, :k+2]\n",
    "    return D\n",
    "\n",
    "\n",
    "def trendfiltering_inverse_check(n, k):\n",
    "    '''\n",
    "    Returns the inverse of the trendfiltering basis matrix H\n",
    "    This is the exact definition used in [Tibshirani, 2014]\n",
    "    and should only be used for checking the faster implementation below.\n",
    "    See proof of Lemma 2 in Supplementary.\n",
    "    '''\n",
    "    Dk = discrete_difference_operator(n, k + 1)\n",
    "    Minv = np.zeros((n, n))\n",
    "    for i in range(k + 1):\n",
    "        Drow = discrete_difference_operator(n, i, return_row = True)\n",
    "        Minv[i, :] = Drow\n",
    "    Minv[i+1:, :] = Dk\n",
    "    #tconst = np.power(n, k) / np.math.factorial(k)\n",
    "    return Minv\n",
    "\n",
    "\n",
    "def trendfiltering_inverse(n, k):\n",
    "    '''\n",
    "    Returns the inverse of the trendfiltering basis matrix H', where\n",
    "        bhat = argmin ||y - b||^2 + \\lambda ||H'b||\n",
    "    This is a faster implementation without any dot product.\n",
    "    Check output with trendfiltering_inverse_check(n, k).\n",
    "    See proof of Lemma 2 in Supplementary.\n",
    "    '''\n",
    "    Hinv = np.zeros((n, n))\n",
    "    for i in range(2):\n",
    "        Hinv[i, i] = 1\n",
    "    for i in range(1, k + 2):\n",
    "        Hinv[i, :i+2] = Hinv[i, :i+2] - Hinv[i-1, :i+2]\n",
    "        Hinv[i+1, 1:i+3] = Hinv[i, :i+2]\n",
    "    for j in range(1, n-k-2):\n",
    "        irow = i + j + 1\n",
    "        Hinv[irow, j+1:j+k+3] = Hinv[i, :k+2]\n",
    "    return Hinv\n",
    "\n",
    "\n",
    "def trendfiltering_check(n, k):\n",
    "    '''\n",
    "    Returns the forward trendfiltering basis matrix H, where\n",
    "        bhat = argmin ||y - Hb||^2 + \\lambda \\sum |b_j|\n",
    "    This is the exact definition used in [Tibshirani, 2014]\n",
    "    and should only be used for checking the faster implementation below.\n",
    "    See proof of Lemma 2 in Supplementary\n",
    "    '''\n",
    "    #tconst = np.power(n, k) / np.math.factorial(k)\n",
    "    def getMi(n, i):\n",
    "        M = np.zeros((n, n))\n",
    "        M[:i, :i] = np.eye(i)\n",
    "        M[i:, i:] = np.tril(np.ones((n-i, n-i)))\n",
    "        return M\n",
    "    M = getMi(n, 0)\n",
    "    for i in range(1, k+1):\n",
    "        M = np.dot(M, getMi(n, i))\n",
    "    return M\n",
    "\n",
    "\n",
    "def trendfiltering(n, k):\n",
    "    '''\n",
    "    Returns the trendfiltering basis matrix H\n",
    "    This is a faster implementation without any dot product.\n",
    "    Check output with trendfiltering_basis_matrix_check(n, k)\n",
    "    '''\n",
    "    H = np.zeros((n, n))\n",
    "    A = list([np.ones(n) for i in range(k + 1)])\n",
    "    for i in range(1, k + 1):\n",
    "        A[i] = np.cumsum(A[i-1])\n",
    "    for j in range(k):\n",
    "        H[j:, j] = A[j][:n-j]\n",
    "    for j in range(k, n):\n",
    "        H[j:, j] = A[k][:n-j]\n",
    "    return H\n",
    "\n",
    "\n",
    "def trendfiltering_tibshirani(n, k):\n",
    "    '''\n",
    "    This is an alternate definition of the trendfiltering basis matrix H,\n",
    "    see Eq 27 in [Tibshirani, 2014].\n",
    "    I have not calculated the inverse of this matrix.\n",
    "    '''\n",
    "    # ----------------------------\n",
    "    # Let's not delete the explicit version, slow\n",
    "    # but this is what we are doing.\n",
    "    # ----------------------------\n",
    "    # H = np.zeros((n, n))\n",
    "    # npowerk = np.power(n, k)\n",
    "    # seq = np.arange(1, n+1).reshape(n, 1)\n",
    "    # H[:, :k + 1] = np.power(np.tile(seq, k+1), np.arange(k+1)) / np.power(n, np.arange(k+1))\n",
    "    # for j in range(k+1, n):\n",
    "    #     for i in range(n):\n",
    "    #         if i > j - 1:\n",
    "    #             Hij = 1.0\n",
    "    #             for l in range(1, k+1):\n",
    "    #                 Hij *= (i - j + k - l + 1)\n",
    "    #             H[i, j] = Hij #/ np.power(n, k)\n",
    "    # ----------------------------\n",
    "    # ----------------------------\n",
    "    # A function for fast calculation of the lower triangular matrix\n",
    "    # obtained from the third condition in Eq 27\n",
    "    def lower_tril_from_vector(S):\n",
    "        n = S.shape[0]\n",
    "        X = np.zeros((n, n))\n",
    "        X[:, 0] = S\n",
    "        for j in range(1, n):\n",
    "            X[j:, j] = S[:-j]\n",
    "        return X\n",
    "    # ----------------------------\n",
    "    # instead of calculating each element\n",
    "    # precalculate the vector of products in the third condition only once \n",
    "    # and fill up the lower triangular matrix of the basis\n",
    "    npowerk = np.power(n, k)\n",
    "    kfact = np.math.factorial(k)\n",
    "    S = np.ones(n - k - 1)\n",
    "    for i in range(1, n - k - 1):\n",
    "        S[i] = S[i - 1] * (i + k) / i\n",
    "    # ----------------------------\n",
    "    H = np.zeros((n, n))\n",
    "    seq = np.arange(1, n+1).reshape(n, 1)\n",
    "    H[:, :k + 1] = np.power(seq, np.arange(k+1)) / np.power(n, np.arange(k+1))\n",
    "    H[k+1:, k+1:] = lower_tril_from_vector(S * kfact / npowerk)\n",
    "    return H\n",
    "\n",
    "def center_and_scale_tfbasis(Z):\n",
    "    '''\n",
    "    Basis matrix Z is always 2D.\n",
    "    b is the coefficient vector\n",
    "    The first column of Z is all 1, hence it has zero standard deviation.\n",
    "    '''\n",
    "    dim  = Z.ndim\n",
    "    std  = np.std(Z, axis = 0)\n",
    "    skip = 0\n",
    "    if std[0] == 0:\n",
    "        # do not scale the first column\n",
    "        # print (\"The first column has all equal values.\")\n",
    "        std[0] = 1.0\n",
    "        skip = 1\n",
    "    Znew = Z / std\n",
    "    colmeans = np.zeros(Z.shape[0])\n",
    "    colmeans[skip:] = np.mean(Znew, axis = 0)[skip:]\n",
    "    Znew = Znew - colmeans.reshape(1, -1)\n",
    "    #scalefactor = colmeans * std[skip:]\n",
    "    scalefactor = std\n",
    "    ### add the intercept\n",
    "    #bnew = b * std\n",
    "    #if skip == 1:\n",
    "    #    bnew[0] += np.sum(scalefactor * b[1:])\n",
    "    '''\n",
    "    alternative\n",
    "    bnew = np.dot(np.dot(np.linalg.inv(Znew), Z), b)\n",
    "    '''\n",
    "    return Znew, scalefactor, colmeans\n",
    "\n",
    "\n",
    "def trendfiltering_scaled(n, k):\n",
    "    H = trendfiltering(n, k)\n",
    "    Hs, s, m = center_and_scale_tfbasis(H)\n",
    "    return Hs\n",
    "\n",
    "def trendfiltering_inverse_scaled(n, k):\n",
    "    H = trendfiltering(n, k)\n",
    "    Hs, s, m = center_and_scale_tfbasis(H)\n",
    "    Hinv = trendfiltering_inverse(n, k)\n",
    "    Hinvs = Hinv * s.reshape(-1,1)\n",
    "    Hinvs[0, :] = 1 / n\n",
    "    return Hinvs"
   ]
  },
  {
   "cell_type": "code",
   "execution_count": 28,
   "metadata": {},
   "outputs": [
    {
     "data": {
      "text/plain": [
       "array([[-1.,  1.,  0.,  0.,  0.,  0.,  0.,  0.],\n",
       "       [ 0., -1.,  1.,  0.,  0.,  0.,  0.,  0.],\n",
       "       [ 0.,  0., -1.,  1.,  0.,  0.,  0.,  0.],\n",
       "       [ 0.,  0.,  0., -1.,  1.,  0.,  0.,  0.],\n",
       "       [ 0.,  0.,  0.,  0., -1.,  1.,  0.,  0.],\n",
       "       [ 0.,  0.,  0.,  0.,  0., -1.,  1.,  0.],\n",
       "       [ 0.,  0.,  0.,  0.,  0.,  0., -1.,  1.]])"
      ]
     },
     "execution_count": 28,
     "metadata": {},
     "output_type": "execute_result"
    }
   ],
   "source": [
    "discrete_difference_operator(8,1)"
   ]
  },
  {
   "cell_type": "code",
   "execution_count": 11,
   "metadata": {},
   "outputs": [
    {
     "data": {
      "text/plain": [
       "array([[1.   , 0.125, 0.   , 0.   , 0.   , 0.   , 0.   , 0.   ],\n",
       "       [1.   , 0.25 , 0.   , 0.   , 0.   , 0.   , 0.   , 0.   ],\n",
       "       [1.   , 0.375, 0.125, 0.   , 0.   , 0.   , 0.   , 0.   ],\n",
       "       [1.   , 0.5  , 0.25 , 0.125, 0.   , 0.   , 0.   , 0.   ],\n",
       "       [1.   , 0.625, 0.375, 0.25 , 0.125, 0.   , 0.   , 0.   ],\n",
       "       [1.   , 0.75 , 0.5  , 0.375, 0.25 , 0.125, 0.   , 0.   ],\n",
       "       [1.   , 0.875, 0.625, 0.5  , 0.375, 0.25 , 0.125, 0.   ],\n",
       "       [1.   , 1.   , 0.75 , 0.625, 0.5  , 0.375, 0.25 , 0.125]])"
      ]
     },
     "execution_count": 11,
     "metadata": {},
     "output_type": "execute_result"
    }
   ],
   "source": [
    "trendfiltering_tibshirani(8, 1)"
   ]
  },
  {
   "cell_type": "code",
   "execution_count": 13,
   "metadata": {},
   "outputs": [
    {
     "data": {
      "text/plain": [
       "array([[8.  , 4.5 , 2.62, 1.88, 1.25, 0.75, 0.38, 0.12],\n",
       "       [4.5 , 3.19, 2.08, 1.56, 1.09, 0.69, 0.36, 0.12],\n",
       "       [2.62, 2.08, 1.42, 1.09, 0.78, 0.5 , 0.27, 0.09],\n",
       "       [1.88, 1.56, 1.09, 0.86, 0.62, 0.41, 0.22, 0.08],\n",
       "       [1.25, 1.09, 0.78, 0.62, 0.47, 0.31, 0.17, 0.06],\n",
       "       [0.75, 0.69, 0.5 , 0.41, 0.31, 0.22, 0.12, 0.05],\n",
       "       [0.38, 0.36, 0.27, 0.22, 0.17, 0.12, 0.08, 0.03],\n",
       "       [0.12, 0.12, 0.09, 0.08, 0.06, 0.05, 0.03, 0.02]])"
      ]
     },
     "execution_count": 13,
     "metadata": {},
     "output_type": "execute_result"
    }
   ],
   "source": [
    "np.round(np.matmul(trendfiltering_tibshirani(8, 1).T,trendfiltering_tibshirani(8, 1)),2)"
   ]
  },
  {
   "cell_type": "code",
   "execution_count": 7,
   "metadata": {},
   "outputs": [
    {
     "data": {
      "text/plain": [
       "array([[1.  , 0.12, 0.02, 0.  , 0.  , 0.  , 0.  , 0.  ],\n",
       "       [1.  , 0.25, 0.06, 0.  , 0.  , 0.  , 0.  , 0.  ],\n",
       "       [1.  , 0.38, 0.14, 0.  , 0.  , 0.  , 0.  , 0.  ],\n",
       "       [1.  , 0.5 , 0.25, 0.03, 0.  , 0.  , 0.  , 0.  ],\n",
       "       [1.  , 0.62, 0.39, 0.09, 0.03, 0.  , 0.  , 0.  ],\n",
       "       [1.  , 0.75, 0.56, 0.19, 0.09, 0.03, 0.  , 0.  ],\n",
       "       [1.  , 0.88, 0.77, 0.31, 0.19, 0.09, 0.03, 0.  ],\n",
       "       [1.  , 1.  , 1.  , 0.47, 0.31, 0.19, 0.09, 0.03]])"
      ]
     },
     "execution_count": 7,
     "metadata": {},
     "output_type": "execute_result"
    }
   ],
   "source": [
    "np.round(trendfiltering_tibshirani(8,2),2)"
   ]
  },
  {
   "cell_type": "code",
   "execution_count": 6,
   "metadata": {},
   "outputs": [
    {
     "data": {
      "text/plain": [
       "array([[8.  , 4.5 , 3.19, 1.09, 0.62, 0.31, 0.12, 0.03],\n",
       "       [4.5 , 3.19, 2.53, 0.96, 0.57, 0.29, 0.12, 0.03],\n",
       "       [3.19, 2.53, 2.14, 0.86, 0.52, 0.28, 0.12, 0.03],\n",
       "       [1.09, 0.96, 0.86, 0.36, 0.23, 0.12, 0.05, 0.01],\n",
       "       [0.62, 0.57, 0.52, 0.23, 0.14, 0.08, 0.04, 0.01],\n",
       "       [0.31, 0.29, 0.28, 0.12, 0.08, 0.04, 0.02, 0.01],\n",
       "       [0.12, 0.12, 0.12, 0.05, 0.04, 0.02, 0.01, 0.  ],\n",
       "       [0.03, 0.03, 0.03, 0.01, 0.01, 0.01, 0.  , 0.  ]])"
      ]
     },
     "execution_count": 6,
     "metadata": {},
     "output_type": "execute_result"
    }
   ],
   "source": [
    "A = trendfiltering_tibshirani(8,2)\n",
    "np.round(np.matmul(A.T,A),2)"
   ]
  },
  {
   "cell_type": "code",
   "execution_count": 31,
   "metadata": {},
   "outputs": [
    {
     "data": {
      "text/plain": [
       "array([[1., 0., 0., 0., 0., 0., 0., 0.],\n",
       "       [1., 1., 0., 0., 0., 0., 0., 0.],\n",
       "       [1., 2., 1., 0., 0., 0., 0., 0.],\n",
       "       [1., 3., 2., 1., 0., 0., 0., 0.],\n",
       "       [1., 4., 3., 2., 1., 0., 0., 0.],\n",
       "       [1., 5., 4., 3., 2., 1., 0., 0.],\n",
       "       [1., 6., 5., 4., 3., 2., 1., 0.],\n",
       "       [1., 7., 6., 5., 4., 3., 2., 1.]])"
      ]
     },
     "execution_count": 31,
     "metadata": {},
     "output_type": "execute_result"
    }
   ],
   "source": [
    "trendfiltering_check(8,1)"
   ]
  }
 ],
 "metadata": {
  "kernelspec": {
   "display_name": "Python 3.8.10 64-bit",
   "language": "python",
   "name": "python3"
  },
  "language_info": {
   "codemirror_mode": {
    "name": "ipython",
    "version": 3
   },
   "file_extension": ".py",
   "mimetype": "text/x-python",
   "name": "python",
   "nbconvert_exporter": "python",
   "pygments_lexer": "ipython3",
   "version": "3.8.10"
  },
  "orig_nbformat": 4,
  "vscode": {
   "interpreter": {
    "hash": "916dbcbb3f70747c44a77c7bcd40155683ae19c65e1c03b4aa3499c5328201f1"
   }
  }
 },
 "nbformat": 4,
 "nbformat_minor": 2
}

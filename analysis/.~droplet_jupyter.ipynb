{
 "cells": [
  {
   "cell_type": "code",
   "execution_count": 14,
   "id": "d24089f9",
   "metadata": {},
   "outputs": [],
   "source": [
    "init_tol=0.01\n",
    "res = readRDS(file=paste('/project2/mstephens/dongyue/poisson_mf/droplet_66k/iteration_results/ebpmf_pulse_seq_3kgene_nonnegLF_inittol',init_tol,'_iter50.rds',sep=''))"
   ]
  },
  {
   "cell_type": "code",
   "execution_count": 15,
   "id": "6cb32d7b",
   "metadata": {},
   "outputs": [],
   "source": [
    "dat =readRDS('/project2/mstephens/dongyue/poisson_mf/droplet_66k/pulse_seq_5kgene.rds')\n",
    "cell.type <- sapply(strsplit(rownames(dat), \"_\"), `[[`, 5)\n",
    "time.point <- sapply(strsplit(rownames(dat), \"_\"), `[[`, 2)\n",
    "\n",
    "cell.type <- ifelse(\n",
    "  cell.type == \"Basal\", paste0(\"Basal (\", time.point, \")\"), cell.type\n",
    ")\n",
    "\n",
    "cell.type <- factor(cell.type, levels = c(\n",
    "  \"Basal (Tp0)\",\n",
    "  \"Basal (Tp30)\",\n",
    "  \"Basal (Tp60)\",\n",
    "  \"Club\",\n",
    "  \"Club (hillock-associated)\",\n",
    "  \"Ciliated\",\n",
    "  \"Goblet.progenitor\",\n",
    "  \"Goblet.1\",\n",
    "  \"Goblet.2\",\n",
    "  \"Tuft.progenitor\",\n",
    "  \"Tuft.1\",\n",
    "  \"Tuft.2\",\n",
    "  \"Neuroendocrine\",\n",
    "  \"Ionocyte\",\n",
    "  \"Proliferating\"\n",
    "))"
   ]
  },
  {
   "cell_type": "code",
   "execution_count": 16,
   "id": "a61d163f",
   "metadata": {},
   "outputs": [],
   "source": [
    "source(\"~/Rpackages/gsmash/code/poisson_STM/structure_plot.R\")\n",
    "library(Matrix)"
   ]
  },
  {
   "cell_type": "code",
   "execution_count": null,
   "id": "0469fb48",
   "metadata": {},
   "outputs": [],
   "source": [
    "structure_plot_general(res$fit_flash$L.pm,res$fit_flash$F.pm,cell.type,\n",
    "                       LD=T,remove_l0f0 = T,title = 'EBPMF',\n",
    "                       n_samples = 2000,K=16,print_plot = F,colors = colors)\n"
   ]
  }
 ],
 "metadata": {
  "kernelspec": {
   "display_name": "R",
   "language": "R",
   "name": "ir"
  },
  "language_info": {
   "codemirror_mode": "r",
   "file_extension": ".r",
   "mimetype": "text/x-r-source",
   "name": "R",
   "pygments_lexer": "r",
   "version": "3.6.1"
  }
 },
 "nbformat": 4,
 "nbformat_minor": 5
}
